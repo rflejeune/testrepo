{
 "cells": [
  {
   "cell_type": "markdown",
   "id": "f1f452b2-061b-45ad-b0c0-b90441856198",
   "metadata": {},
   "source": [
    "# Data Science Tools and Ecosystem"
   ]
  },
  {
   "cell_type": "markdown",
   "id": "66f44570-ceda-4232-ae61-dc0223da16b0",
   "metadata": {},
   "source": [
    "**Objectives:**\n",
    "\n",
    "- List popular languages for Data Science\n",
    "- List popular libraries for Data Science\n",
    "- Show examples of code cells and computations"
   ]
  },
  {
   "cell_type": "markdown",
   "id": "ee9a4e7b-2008-46db-b8c1-d3f1ec7a873c",
   "metadata": {},
   "source": [
    "In this notebook, Data Science Tools and Ecosystem are summarized."
   ]
  },
  {
   "cell_type": "markdown",
   "id": "6251908e-e7fa-47de-82a6-407888ba21e2",
   "metadata": {},
   "source": [
    "Some of the popular languages that Data Scientists use are:\n",
    "\n",
    "1. Python\n",
    "2. R\n",
    "3. Scala\n",
    "4. C++\n",
    "5. Julia"
   ]
  },
  {
   "cell_type": "markdown",
   "id": "daa43f9f-ad23-4db7-b168-73b62f7d5b6f",
   "metadata": {},
   "source": [
    "Some of the commonly used libraries used by Data Scientists include:\n",
    "\n",
    "1. pandas\n",
    "2. tensorflow\n",
    "3. pytorch\n",
    "4. ggplot2\n",
    "5. numpy"
   ]
  },
  {
   "cell_type": "markdown",
   "id": "c5a1ecbe-de88-449b-a57c-52a7a9123d3b",
   "metadata": {},
   "source": [
    "|Data Science Tools|\n",
    "|------------------|\n",
    "|Jyupyter Notebooks|\n",
    "|R Studio|\n",
    "|Anaconda|\n",
    "|Spyder|\n",
    "|Google CoLab|"
   ]
  },
  {
   "cell_type": "markdown",
   "id": "e08b38f2-e0dc-41b8-8622-fc5cc6405ae0",
   "metadata": {},
   "source": [
    "Below are a few examples of evaluating arithmetic expressions in Python"
   ]
  },
  {
   "cell_type": "code",
   "execution_count": 1,
   "id": "996ee3ea-81f5-4b20-bf8f-62283ad5e38d",
   "metadata": {
    "tags": []
   },
   "outputs": [
    {
     "data": {
      "text/plain": [
       "17"
      ]
     },
     "execution_count": 1,
     "metadata": {},
     "output_type": "execute_result"
    }
   ],
   "source": [
    "# This a simple arithmetic expression to mutiply then add integers\n",
    "\n",
    "(3*4)+5"
   ]
  },
  {
   "cell_type": "code",
   "execution_count": 2,
   "id": "4809dea2-24b2-4156-8eff-aaad32c6637a",
   "metadata": {
    "tags": []
   },
   "outputs": [
    {
     "name": "stdout",
     "output_type": "stream",
     "text": [
      "3.3333333333333335\n"
     ]
    }
   ],
   "source": [
    "minutes = 200\n",
    "hours = minutes / 60\n",
    "print(hours)"
   ]
  },
  {
   "cell_type": "markdown",
   "id": "c7b9ab6a-95da-4519-a20c-92992914eb37",
   "metadata": {},
   "source": [
    "## Author\n",
    "\n",
    "Randall LeJeune"
   ]
  },
  {
   "cell_type": "code",
   "execution_count": null,
   "id": "2eca44c2-8305-431b-9fe4-be8dc97563c3",
   "metadata": {},
   "outputs": [],
   "source": []
  }
 ],
 "metadata": {
  "kernelspec": {
   "display_name": "Python",
   "language": "python",
   "name": "conda-env-python-py"
  },
  "language_info": {
   "codemirror_mode": {
    "name": "ipython",
    "version": 3
   },
   "file_extension": ".py",
   "mimetype": "text/x-python",
   "name": "python",
   "nbconvert_exporter": "python",
   "pygments_lexer": "ipython3",
   "version": "3.7.12"
  }
 },
 "nbformat": 4,
 "nbformat_minor": 5
}
